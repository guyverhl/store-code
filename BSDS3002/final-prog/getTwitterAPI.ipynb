{
 "metadata": {
  "language_info": {
   "codemirror_mode": {
    "name": "ipython",
    "version": 3
   },
   "file_extension": ".py",
   "mimetype": "text/x-python",
   "name": "python",
   "nbconvert_exporter": "python",
   "pygments_lexer": "ipython3",
   "version": "3.9.0"
  },
  "orig_nbformat": 2,
  "kernelspec": {
   "name": "python390jvsc74a57bd0aee8b7b246df8f9039afb4144a1f6fd8d2ca17a180786b69acc140d282b71a49",
   "display_name": "Python 3.9.0 64-bit"
  },
  "metadata": {
   "interpreter": {
    "hash": "aee8b7b246df8f9039afb4144a1f6fd8d2ca17a180786b69acc140d282b71a49"
   }
  }
 },
 "nbformat": 4,
 "nbformat_minor": 2,
 "cells": [
  {
   "source": [
    "import numpy as np\n",
    "import pandas as pd\n",
    "import tweepy\n",
    "import os\n",
    "from dotenv import load_dotenv\n",
    "load_dotenv()"
   ],
   "cell_type": "code",
   "metadata": {},
   "execution_count": null,
   "outputs": []
  },
  {
   "cell_type": "code",
   "execution_count": null,
   "metadata": {},
   "outputs": [],
   "source": [
    "consumerKey = os.getenv(\"consumerKey\")\n",
    "consumerSecret = os.getenv(\"consumerSecret\")\n",
    "accessToken = os.getenv(\"accessToken\")\n",
    "accessTokenSecret = os.getenv(\"accessTokenSecret\")\n",
    "location = os.getenv(\"location\")"
   ]
  },
  {
   "cell_type": "code",
   "execution_count": null,
   "metadata": {},
   "outputs": [],
   "source": [
    "def pulling(location, noOfTweet):\n",
    "    auth = tweepy.OAuthHandler(consumerKey, consumerSecret)\n",
    "    auth.set_access_token(accessToken, accessTokenSecret)\n",
    "    api = tweepy.API(auth, wait_on_rate_limit=True,wait_on_rate_limit_notify=True)\n",
    "\n",
    "    keyword = f'vaccine {location}'\n",
    "    tweets = tweepy.Cursor(api.search, q=keyword).items(noOfTweet)\n",
    "    print(f'getting data...')\n",
    "    tweet_list = [[tweet.user.screen_name, tweet.user.followers_count, tweet.user.friends_count, \n",
    "                    tweet.retweet_count, tweet.favorite_count, tweet.text] for tweet in tweets]\n",
    "    tweet_text = pd.DataFrame(data=tweet_list, columns=['user', \"followers_count\", \"friends_count\", \n",
    "                                                        \"retweet_count\", \"favorite_count\", \"text\"])\n",
    "    tweet_text.to_csv(f'./dataset/tweet-df-{location}.csv', index=False)\n",
    "\n",
    "    return tweet_text"
   ]
  },
  {
   "cell_type": "code",
   "execution_count": null,
   "metadata": {},
   "outputs": [],
   "source": [
    "noOfTweet = 1000\n",
    "df = pulling(location, noOfTweet)"
   ]
  },
  {
   "cell_type": "code",
   "execution_count": null,
   "metadata": {},
   "outputs": [],
   "source": [
    "df = pd.read_csv(f'./dataset/tweet-df-{location}.csv', sep=',', lineterminator='\\n')\n",
    "print(df)"
   ]
  },
  {
   "cell_type": "code",
   "execution_count": null,
   "metadata": {},
   "outputs": [],
   "source": [
    "retweeted = []\n",
    "user = []\n",
    "user_followers = []\n",
    "text = []\n",
    "for index, row in df.text.iteritems():\n",
    "    if \"RT @\" in row:\n",
    "        username = row.split(\"RT @\",1)[1].split(\":\",1)[-2]\n",
    "        if \" \" in username:\n",
    "            username = username.split(\" \",1)[-2]\n",
    "        retweeted.append(username)\n",
    "        user.append(df.user[index])\n",
    "        user_followers.append(df.followers_count[index])\n",
    "        text.append(df.text[index])\n",
    "edge = pd.DataFrame(zip(user, user_followers, retweeted, text), columns =['user', 'user_followers', 'retweeted_user', 'text'])\n",
    "edge = edge.drop(edge[edge.user == edge.retweeted_user].index)\n",
    "edge['retweeted_user_followers'] = \"\"\n",
    "edge['sentiment'] = \"\""
   ]
  },
  {
   "cell_type": "code",
   "execution_count": null,
   "metadata": {},
   "outputs": [],
   "source": [
    "retweeted_user_list = list(edge.retweeted_user)\n",
    "retweeted_user_list = list(dict.fromkeys(retweeted_user_list))\n",
    "# print(retweeted_user_list)"
   ]
  },
  {
   "cell_type": "code",
   "execution_count": null,
   "metadata": {},
   "outputs": [],
   "source": [
    "auth = tweepy.OAuthHandler(consumerKey, consumerSecret)\n",
    "auth.set_access_token(accessToken, accessTokenSecret)\n",
    "api = tweepy.API(auth)\n",
    "\n",
    "retweeted_user_followers_dict = {}\n",
    "\n",
    "for screen_name in retweeted_user_list:\n",
    "    # fetching the user\n",
    "    print(f'fetching {screen_name}...')\n",
    "    user = api.get_user(screen_name, wait_on_rate_limit=True,wait_on_rate_limit_notify=True)\n",
    "    \n",
    "    # fetching the followers_count\n",
    "    followers_count = user.followers_count\n",
    "\n",
    "    retweeted_user_followers_dict[screen_name] = followers_count"
   ]
  },
  {
   "cell_type": "code",
   "execution_count": null,
   "metadata": {},
   "outputs": [],
   "source": [
    "retweeted_user_followers_list = [retweeted_user_followers_dict[i] for i in list(edge.retweeted_user)]\n",
    "edge['retweeted_user_followers'] = retweeted_user_followers_list\n",
    "edge.to_csv(f'./dataset/edge-{location}.csv', index=False)"
   ]
  },
  {
   "cell_type": "code",
   "execution_count": null,
   "metadata": {},
   "outputs": [],
   "source": []
  }
 ]
}