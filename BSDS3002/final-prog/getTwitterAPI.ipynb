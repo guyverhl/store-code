{
 "metadata": {
  "language_info": {
   "codemirror_mode": {
    "name": "ipython",
    "version": 3
   },
   "file_extension": ".py",
   "mimetype": "text/x-python",
   "name": "python",
   "nbconvert_exporter": "python",
   "pygments_lexer": "ipython3",
   "version": "3.9.0"
  },
  "orig_nbformat": 2,
  "kernelspec": {
   "name": "python390jvsc74a57bd0aee8b7b246df8f9039afb4144a1f6fd8d2ca17a180786b69acc140d282b71a49",
   "display_name": "Python 3.9.0 64-bit"
  },
  "metadata": {
   "interpreter": {
    "hash": "aee8b7b246df8f9039afb4144a1f6fd8d2ca17a180786b69acc140d282b71a49"
   }
  }
 },
 "nbformat": 4,
 "nbformat_minor": 2,
 "cells": [
  {
   "source": [
    "import numpy as np\n",
    "import pandas as pd\n",
    "import tweepy\n",
    "import os\n",
    "from dotenv import load_dotenv\n",
    "load_dotenv()"
   ],
   "cell_type": "code",
   "metadata": {},
   "execution_count": 17,
   "outputs": [
    {
     "output_type": "execute_result",
     "data": {
      "text/plain": [
       "True"
      ]
     },
     "metadata": {},
     "execution_count": 17
    }
   ]
  },
  {
   "cell_type": "code",
   "execution_count": 18,
   "metadata": {},
   "outputs": [],
   "source": [
    "consumerKey = os.getenv(\"consumerKey\")\n",
    "consumerSecret = os.getenv(\"consumerSecret\")\n",
    "accessToken = os.getenv(\"accessToken\")\n",
    "accessTokenSecret = os.getenv(\"accessTokenSecret\")\n",
    "location = os.getenv(\"location\")"
   ]
  },
  {
   "cell_type": "code",
   "execution_count": 19,
   "metadata": {},
   "outputs": [],
   "source": [
    "def pulling(location, noOfTweet):\n",
    "    auth = tweepy.OAuthHandler(consumerKey, consumerSecret)\n",
    "    auth.set_access_token(accessToken, accessTokenSecret)\n",
    "    api = tweepy.API(auth)\n",
    "\n",
    "    keyword = f'vaccine {location}'\n",
    "    tweets = tweepy.Cursor(api.search, q=keyword).items(noOfTweet)\n",
    "    print(f'getting data...')\n",
    "    tweet_list = [[tweet.user.screen_name, tweet.user.followers_count, tweet.user.friends_count, \n",
    "                    tweet.retweet_count, tweet.favorite_count, tweet.text] for tweet in tweets]\n",
    "    tweet_text = pd.DataFrame(data=tweet_list, columns=['user', \"followers_count\", \"friends_count\", \n",
    "                                                        \"retweet_count\", \"favorite_count\", \"text\"])\n",
    "    tweet_text.to_csv(f'./dataset/tweet-df-{location}.csv', index=False)\n",
    "\n",
    "    return tweet_text"
   ]
  },
  {
   "cell_type": "code",
   "execution_count": 20,
   "metadata": {},
   "outputs": [
    {
     "output_type": "stream",
     "name": "stdout",
     "text": [
      "getting data...\n"
     ]
    },
    {
     "output_type": "error",
     "ename": "TweepError",
     "evalue": "Twitter error response: status code = 429",
     "traceback": [
      "\u001b[0;31m---------------------------------------------------------------------------\u001b[0m",
      "\u001b[0;31mTweepError\u001b[0m                                Traceback (most recent call last)",
      "\u001b[0;32m<ipython-input-20-cb2f143b0be1>\u001b[0m in \u001b[0;36m<module>\u001b[0;34m\u001b[0m\n\u001b[1;32m      1\u001b[0m \u001b[0mnoOfTweet\u001b[0m \u001b[0;34m=\u001b[0m \u001b[0;36m10000\u001b[0m\u001b[0;34m\u001b[0m\u001b[0;34m\u001b[0m\u001b[0m\n\u001b[0;32m----> 2\u001b[0;31m \u001b[0mdf\u001b[0m \u001b[0;34m=\u001b[0m \u001b[0mpulling\u001b[0m\u001b[0;34m(\u001b[0m\u001b[0mlocation\u001b[0m\u001b[0;34m,\u001b[0m \u001b[0mnoOfTweet\u001b[0m\u001b[0;34m)\u001b[0m\u001b[0;34m\u001b[0m\u001b[0;34m\u001b[0m\u001b[0m\n\u001b[0m",
      "\u001b[0;32m<ipython-input-19-e9bd75ef83b2>\u001b[0m in \u001b[0;36mpulling\u001b[0;34m(location, noOfTweet)\u001b[0m\n\u001b[1;32m      7\u001b[0m     \u001b[0mtweets\u001b[0m \u001b[0;34m=\u001b[0m \u001b[0mtweepy\u001b[0m\u001b[0;34m.\u001b[0m\u001b[0mCursor\u001b[0m\u001b[0;34m(\u001b[0m\u001b[0mapi\u001b[0m\u001b[0;34m.\u001b[0m\u001b[0msearch\u001b[0m\u001b[0;34m,\u001b[0m \u001b[0mq\u001b[0m\u001b[0;34m=\u001b[0m\u001b[0mkeyword\u001b[0m\u001b[0;34m)\u001b[0m\u001b[0;34m.\u001b[0m\u001b[0mitems\u001b[0m\u001b[0;34m(\u001b[0m\u001b[0mnoOfTweet\u001b[0m\u001b[0;34m)\u001b[0m\u001b[0;34m\u001b[0m\u001b[0;34m\u001b[0m\u001b[0m\n\u001b[1;32m      8\u001b[0m     \u001b[0mprint\u001b[0m\u001b[0;34m(\u001b[0m\u001b[0;34mf'getting data...'\u001b[0m\u001b[0;34m)\u001b[0m\u001b[0;34m\u001b[0m\u001b[0;34m\u001b[0m\u001b[0m\n\u001b[0;32m----> 9\u001b[0;31m     tweet_list = [[tweet.user.screen_name, tweet.user.followers_count, tweet.user.friends_count, \n\u001b[0m\u001b[1;32m     10\u001b[0m                     tweet.retweet_count, tweet.favorite_count, tweet.text] for tweet in tweets]\n\u001b[1;32m     11\u001b[0m     tweet_text = pd.DataFrame(data=tweet_list, columns=['user', \"followers_count\", \"friends_count\", \n",
      "\u001b[0;32m<ipython-input-19-e9bd75ef83b2>\u001b[0m in \u001b[0;36m<listcomp>\u001b[0;34m(.0)\u001b[0m\n\u001b[1;32m      7\u001b[0m     \u001b[0mtweets\u001b[0m \u001b[0;34m=\u001b[0m \u001b[0mtweepy\u001b[0m\u001b[0;34m.\u001b[0m\u001b[0mCursor\u001b[0m\u001b[0;34m(\u001b[0m\u001b[0mapi\u001b[0m\u001b[0;34m.\u001b[0m\u001b[0msearch\u001b[0m\u001b[0;34m,\u001b[0m \u001b[0mq\u001b[0m\u001b[0;34m=\u001b[0m\u001b[0mkeyword\u001b[0m\u001b[0;34m)\u001b[0m\u001b[0;34m.\u001b[0m\u001b[0mitems\u001b[0m\u001b[0;34m(\u001b[0m\u001b[0mnoOfTweet\u001b[0m\u001b[0;34m)\u001b[0m\u001b[0;34m\u001b[0m\u001b[0;34m\u001b[0m\u001b[0m\n\u001b[1;32m      8\u001b[0m     \u001b[0mprint\u001b[0m\u001b[0;34m(\u001b[0m\u001b[0;34mf'getting data...'\u001b[0m\u001b[0;34m)\u001b[0m\u001b[0;34m\u001b[0m\u001b[0;34m\u001b[0m\u001b[0m\n\u001b[0;32m----> 9\u001b[0;31m     tweet_list = [[tweet.user.screen_name, tweet.user.followers_count, tweet.user.friends_count, \n\u001b[0m\u001b[1;32m     10\u001b[0m                     tweet.retweet_count, tweet.favorite_count, tweet.text] for tweet in tweets]\n\u001b[1;32m     11\u001b[0m     tweet_text = pd.DataFrame(data=tweet_list, columns=['user', \"followers_count\", \"friends_count\", \n",
      "\u001b[0;32m/usr/local/lib/python3.9/site-packages/tweepy/cursor.py\u001b[0m in \u001b[0;36m__next__\u001b[0;34m(self)\u001b[0m\n\u001b[1;32m     49\u001b[0m \u001b[0;34m\u001b[0m\u001b[0m\n\u001b[1;32m     50\u001b[0m     \u001b[0;32mdef\u001b[0m \u001b[0m__next__\u001b[0m\u001b[0;34m(\u001b[0m\u001b[0mself\u001b[0m\u001b[0;34m)\u001b[0m\u001b[0;34m:\u001b[0m\u001b[0;34m\u001b[0m\u001b[0;34m\u001b[0m\u001b[0m\n\u001b[0;32m---> 51\u001b[0;31m         \u001b[0;32mreturn\u001b[0m \u001b[0mself\u001b[0m\u001b[0;34m.\u001b[0m\u001b[0mnext\u001b[0m\u001b[0;34m(\u001b[0m\u001b[0;34m)\u001b[0m\u001b[0;34m\u001b[0m\u001b[0;34m\u001b[0m\u001b[0m\n\u001b[0m\u001b[1;32m     52\u001b[0m \u001b[0;34m\u001b[0m\u001b[0m\n\u001b[1;32m     53\u001b[0m     \u001b[0;32mdef\u001b[0m \u001b[0mnext\u001b[0m\u001b[0;34m(\u001b[0m\u001b[0mself\u001b[0m\u001b[0;34m)\u001b[0m\u001b[0;34m:\u001b[0m\u001b[0;34m\u001b[0m\u001b[0;34m\u001b[0m\u001b[0m\n",
      "\u001b[0;32m/usr/local/lib/python3.9/site-packages/tweepy/cursor.py\u001b[0m in \u001b[0;36mnext\u001b[0;34m(self)\u001b[0m\n\u001b[1;32m    241\u001b[0m         \u001b[0;32mif\u001b[0m \u001b[0mself\u001b[0m\u001b[0;34m.\u001b[0m\u001b[0mcurrent_page\u001b[0m \u001b[0;32mis\u001b[0m \u001b[0;32mNone\u001b[0m \u001b[0;32mor\u001b[0m \u001b[0mself\u001b[0m\u001b[0;34m.\u001b[0m\u001b[0mpage_index\u001b[0m \u001b[0;34m==\u001b[0m \u001b[0mlen\u001b[0m\u001b[0;34m(\u001b[0m\u001b[0mself\u001b[0m\u001b[0;34m.\u001b[0m\u001b[0mcurrent_page\u001b[0m\u001b[0;34m)\u001b[0m \u001b[0;34m-\u001b[0m \u001b[0;36m1\u001b[0m\u001b[0;34m:\u001b[0m\u001b[0;34m\u001b[0m\u001b[0;34m\u001b[0m\u001b[0m\n\u001b[1;32m    242\u001b[0m             \u001b[0;31m# Reached end of current page, get the next page...\u001b[0m\u001b[0;34m\u001b[0m\u001b[0;34m\u001b[0m\u001b[0;34m\u001b[0m\u001b[0m\n\u001b[0;32m--> 243\u001b[0;31m             \u001b[0mself\u001b[0m\u001b[0;34m.\u001b[0m\u001b[0mcurrent_page\u001b[0m \u001b[0;34m=\u001b[0m \u001b[0mself\u001b[0m\u001b[0;34m.\u001b[0m\u001b[0mpage_iterator\u001b[0m\u001b[0;34m.\u001b[0m\u001b[0mnext\u001b[0m\u001b[0;34m(\u001b[0m\u001b[0;34m)\u001b[0m\u001b[0;34m\u001b[0m\u001b[0;34m\u001b[0m\u001b[0m\n\u001b[0m\u001b[1;32m    244\u001b[0m             \u001b[0;32mwhile\u001b[0m \u001b[0mlen\u001b[0m\u001b[0;34m(\u001b[0m\u001b[0mself\u001b[0m\u001b[0;34m.\u001b[0m\u001b[0mcurrent_page\u001b[0m\u001b[0;34m)\u001b[0m \u001b[0;34m==\u001b[0m \u001b[0;36m0\u001b[0m\u001b[0;34m:\u001b[0m\u001b[0;34m\u001b[0m\u001b[0;34m\u001b[0m\u001b[0m\n\u001b[1;32m    245\u001b[0m                 \u001b[0mself\u001b[0m\u001b[0;34m.\u001b[0m\u001b[0mcurrent_page\u001b[0m \u001b[0;34m=\u001b[0m \u001b[0mself\u001b[0m\u001b[0;34m.\u001b[0m\u001b[0mpage_iterator\u001b[0m\u001b[0;34m.\u001b[0m\u001b[0mnext\u001b[0m\u001b[0;34m(\u001b[0m\u001b[0;34m)\u001b[0m\u001b[0;34m\u001b[0m\u001b[0;34m\u001b[0m\u001b[0m\n",
      "\u001b[0;32m/usr/local/lib/python3.9/site-packages/tweepy/cursor.py\u001b[0m in \u001b[0;36mnext\u001b[0;34m(self)\u001b[0m\n\u001b[1;32m    130\u001b[0m \u001b[0;34m\u001b[0m\u001b[0m\n\u001b[1;32m    131\u001b[0m         \u001b[0;32mif\u001b[0m \u001b[0mself\u001b[0m\u001b[0;34m.\u001b[0m\u001b[0mindex\u001b[0m \u001b[0;34m>=\u001b[0m \u001b[0mlen\u001b[0m\u001b[0;34m(\u001b[0m\u001b[0mself\u001b[0m\u001b[0;34m.\u001b[0m\u001b[0mresults\u001b[0m\u001b[0;34m)\u001b[0m \u001b[0;34m-\u001b[0m \u001b[0;36m1\u001b[0m\u001b[0;34m:\u001b[0m\u001b[0;34m\u001b[0m\u001b[0;34m\u001b[0m\u001b[0m\n\u001b[0;32m--> 132\u001b[0;31m             \u001b[0mdata\u001b[0m \u001b[0;34m=\u001b[0m \u001b[0mself\u001b[0m\u001b[0;34m.\u001b[0m\u001b[0mmethod\u001b[0m\u001b[0;34m(\u001b[0m\u001b[0mmax_id\u001b[0m\u001b[0;34m=\u001b[0m\u001b[0mself\u001b[0m\u001b[0;34m.\u001b[0m\u001b[0mmax_id\u001b[0m\u001b[0;34m,\u001b[0m \u001b[0mparser\u001b[0m\u001b[0;34m=\u001b[0m\u001b[0mRawParser\u001b[0m\u001b[0;34m(\u001b[0m\u001b[0;34m)\u001b[0m\u001b[0;34m,\u001b[0m \u001b[0;34m*\u001b[0m\u001b[0mself\u001b[0m\u001b[0;34m.\u001b[0m\u001b[0margs\u001b[0m\u001b[0;34m,\u001b[0m \u001b[0;34m**\u001b[0m\u001b[0mself\u001b[0m\u001b[0;34m.\u001b[0m\u001b[0mkwargs\u001b[0m\u001b[0;34m)\u001b[0m\u001b[0;34m\u001b[0m\u001b[0;34m\u001b[0m\u001b[0m\n\u001b[0m\u001b[1;32m    133\u001b[0m \u001b[0;34m\u001b[0m\u001b[0m\n\u001b[1;32m    134\u001b[0m             \u001b[0;32mif\u001b[0m \u001b[0mhasattr\u001b[0m\u001b[0;34m(\u001b[0m\u001b[0mself\u001b[0m\u001b[0;34m.\u001b[0m\u001b[0mmethod\u001b[0m\u001b[0;34m,\u001b[0m \u001b[0;34m'__self__'\u001b[0m\u001b[0;34m)\u001b[0m\u001b[0;34m:\u001b[0m\u001b[0;34m\u001b[0m\u001b[0;34m\u001b[0m\u001b[0m\n",
      "\u001b[0;32m/usr/local/lib/python3.9/site-packages/tweepy/binder.py\u001b[0m in \u001b[0;36m_call\u001b[0;34m(*args, **kwargs)\u001b[0m\n\u001b[1;32m    251\u001b[0m                 \u001b[0;32mreturn\u001b[0m \u001b[0mmethod\u001b[0m\u001b[0;34m\u001b[0m\u001b[0;34m\u001b[0m\u001b[0m\n\u001b[1;32m    252\u001b[0m             \u001b[0;32melse\u001b[0m\u001b[0;34m:\u001b[0m\u001b[0;34m\u001b[0m\u001b[0;34m\u001b[0m\u001b[0m\n\u001b[0;32m--> 253\u001b[0;31m                 \u001b[0;32mreturn\u001b[0m \u001b[0mmethod\u001b[0m\u001b[0;34m.\u001b[0m\u001b[0mexecute\u001b[0m\u001b[0;34m(\u001b[0m\u001b[0;34m)\u001b[0m\u001b[0;34m\u001b[0m\u001b[0;34m\u001b[0m\u001b[0m\n\u001b[0m\u001b[1;32m    254\u001b[0m         \u001b[0;32mfinally\u001b[0m\u001b[0;34m:\u001b[0m\u001b[0;34m\u001b[0m\u001b[0;34m\u001b[0m\u001b[0m\n\u001b[1;32m    255\u001b[0m             \u001b[0mmethod\u001b[0m\u001b[0;34m.\u001b[0m\u001b[0msession\u001b[0m\u001b[0;34m.\u001b[0m\u001b[0mclose\u001b[0m\u001b[0;34m(\u001b[0m\u001b[0;34m)\u001b[0m\u001b[0;34m\u001b[0m\u001b[0;34m\u001b[0m\u001b[0m\n",
      "\u001b[0;32m/usr/local/lib/python3.9/site-packages/tweepy/binder.py\u001b[0m in \u001b[0;36mexecute\u001b[0;34m(self)\u001b[0m\n\u001b[1;32m    232\u001b[0m                     \u001b[0;32mraise\u001b[0m \u001b[0mRateLimitError\u001b[0m\u001b[0;34m(\u001b[0m\u001b[0merror_msg\u001b[0m\u001b[0;34m,\u001b[0m \u001b[0mresp\u001b[0m\u001b[0;34m)\u001b[0m\u001b[0;34m\u001b[0m\u001b[0;34m\u001b[0m\u001b[0m\n\u001b[1;32m    233\u001b[0m                 \u001b[0;32melse\u001b[0m\u001b[0;34m:\u001b[0m\u001b[0;34m\u001b[0m\u001b[0;34m\u001b[0m\u001b[0m\n\u001b[0;32m--> 234\u001b[0;31m                     \u001b[0;32mraise\u001b[0m \u001b[0mTweepError\u001b[0m\u001b[0;34m(\u001b[0m\u001b[0merror_msg\u001b[0m\u001b[0;34m,\u001b[0m \u001b[0mresp\u001b[0m\u001b[0;34m,\u001b[0m \u001b[0mapi_code\u001b[0m\u001b[0;34m=\u001b[0m\u001b[0mapi_error_code\u001b[0m\u001b[0;34m)\u001b[0m\u001b[0;34m\u001b[0m\u001b[0;34m\u001b[0m\u001b[0m\n\u001b[0m\u001b[1;32m    235\u001b[0m \u001b[0;34m\u001b[0m\u001b[0m\n\u001b[1;32m    236\u001b[0m             \u001b[0;31m# Parse the response payload\u001b[0m\u001b[0;34m\u001b[0m\u001b[0;34m\u001b[0m\u001b[0;34m\u001b[0m\u001b[0m\n",
      "\u001b[0;31mTweepError\u001b[0m: Twitter error response: status code = 429"
     ]
    }
   ],
   "source": [
    "noOfTweet = 10000\n",
    "df = pulling(location, noOfTweet)"
   ]
  },
  {
   "cell_type": "code",
   "execution_count": 100,
   "metadata": {},
   "outputs": [
    {
     "output_type": "stream",
     "name": "stdout",
     "text": [
      "                 user  followers_count  friends_count  retweet_count  \\\n0     paperteacher121             1107           1359              0   \n1           ryan_chua           423705           3308              0   \n2        StrawberryNG             1919           1676              0   \n3       AlbertMylesAM             2969           4770              0   \n4           feedpushr               80              0              0   \n...               ...              ...            ...            ...   \n1254  JasonLe89224405              454            716            250   \n1255      June_yu2020              115            335            250   \n1256        trityleti               51            249            250   \n1257        redesovir                9             16            250   \n1258     heidiwyleung               45             81            250   \n\n      favorite_count                                               text  \n0                  0  Hong Kong’s vaccine drive is faltering. Here’s...  \n1                  0  Coronavirus: Hong Kong health experts push to ...  \n2                  0  Hong Kong's vaccine drive is faltering. Here's...  \n3                  0  More Than 2M Vaccine Shots Given In HKSAR | Ho...  \n4                  0  Hong Kong's vaccine drive is faltering. Here's...  \n...              ...                                                ...  \n1254               0  RT @Quicktake: “We don't police people. We ent...  \n1255               0  RT @Quicktake: “We don't police people. We ent...  \n1256               0  RT @Quicktake: “We don't police people. We ent...  \n1257               0  RT @Quicktake: “We don't police people. We ent...  \n1258               0  RT @Quicktake: “We don't police people. We ent...  \n\n[1259 rows x 6 columns]\n"
     ]
    }
   ],
   "source": [
    "df = pd.read_csv(f'./dataset/tweet-df-{location}.csv', sep=',', lineterminator='\\n')\n",
    "print(df)"
   ]
  },
  {
   "cell_type": "code",
   "execution_count": 101,
   "metadata": {},
   "outputs": [],
   "source": [
    "retweeted = []\n",
    "user = []\n",
    "user_followers = []\n",
    "text = []\n",
    "for index, row in df.text.iteritems():\n",
    "    if \"RT @\" in row:\n",
    "        username = row.split(\"RT @\",1)[1].split(\":\",1)[-2]\n",
    "        if \" \" in username:\n",
    "            username = username.split(\" \",1)[-2]\n",
    "        retweeted.append(username)\n",
    "        user.append(df.user[index])\n",
    "        user_followers.append(df.followers_count[index])\n",
    "        text.append(df.text[index])\n",
    "edge = pd.DataFrame(zip(user, user_followers, retweeted, text), columns =['user', 'user_followers', 'retweeted_user', 'text'])\n",
    "edge = edge.drop(edge[edge.user == edge.retweeted_user].index)\n",
    "edge['retweeted_user_followers'] = \"\"\n",
    "edge['sentiment'] = \"\""
   ]
  },
  {
   "cell_type": "code",
   "execution_count": 102,
   "metadata": {},
   "outputs": [],
   "source": [
    "retweeted_user_list = list(edge.retweeted_user)\n",
    "retweeted_user_list = list(dict.fromkeys(retweeted_user_list))\n",
    "# print(retweeted_user_list)"
   ]
  },
  {
   "cell_type": "code",
   "execution_count": 103,
   "metadata": {},
   "outputs": [
    {
     "output_type": "stream",
     "name": "stdout",
     "text": [
      "fetching firstdraftnews...\n",
      "fetching BloombergQuint...\n",
      "fetching DavidGr07837209...\n",
      "fetching AlanCane604...\n",
      "fetching Quicktake...\n",
      "fetching nikki_miumiu...\n",
      "fetching tripperhead...\n",
      "fetching abcnews...\n",
      "fetching dwnews...\n",
      "fetching BillyBostickson...\n",
      "fetching johnrobb...\n",
      "fetching NikkeiAsia...\n",
      "fetching nogoodgods...\n",
      "fetching swissbusiness...\n",
      "fetching hannahsmumby...\n",
      "fetching ChinaSunSong...\n",
      "fetching TIME...\n",
      "fetching Diplomat_APAC...\n",
      "fetching next_china...\n",
      "fetching otandp...\n",
      "fetching Undergroundsar3...\n",
      "fetching george_chen...\n",
      "fetching VamosNadalClay...\n",
      "fetching bobbiharlow...\n",
      "fetching Network_Easy...\n",
      "fetching primroseriordan...\n",
      "fetching baconmashwbs...\n",
      "fetching vicciho...\n",
      "fetching SCMPHongKong...\n",
      "fetching business...\n",
      "fetching iainmarlow...\n",
      "fetching HKU_CMEL...\n",
      "fetching tommywalkerco...\n",
      "fetching CanisPundit...\n",
      "fetching ML03509599...\n",
      "fetching NavitaSrikant...\n",
      "fetching gigi_choy...\n",
      "fetching hongkong_news...\n",
      "fetching SCMPNews...\n",
      "fetching paoloigna1...\n",
      "fetching hildabast...\n",
      "fetching BrittClennett...\n",
      "fetching asiatimesonline...\n",
      "fetching kjoules...\n",
      "fetching bencowling88...\n",
      "fetching InfectiousDz...\n",
      "fetching hkcharlesli...\n",
      "fetching mduhalde96...\n",
      "fetching ETemily...\n",
      "fetching ofarry...\n",
      "fetching denise_tsang...\n",
      "fetching Olgawys...\n",
      "fetching DrMePhD...\n",
      "fetching MaitreyaBhakal...\n",
      "fetching eugyppius1...\n",
      "fetching Paige_Reynolds_...\n",
      "fetching Monocle24...\n",
      "fetching DavidPapp...\n",
      "fetching manilabulletin...\n",
      "fetching Jamon146...\n",
      "fetching TMclaughlin3...\n",
      "fetching AJEnglish...\n",
      "fetching DavidV5Goliath...\n",
      "fetching bpolitics...\n",
      "fetching JeromeTaylor...\n",
      "fetching STForeignDesk...\n",
      "fetching ChloecLoNews...\n"
     ]
    }
   ],
   "source": [
    "auth = tweepy.OAuthHandler(consumerKey, consumerSecret)\n",
    "auth.set_access_token(accessToken, accessTokenSecret)\n",
    "api = tweepy.API(auth)\n",
    "\n",
    "retweeted_user_followers_dict = {}\n",
    "\n",
    "for screen_name in retweeted_user_list:\n",
    "    # fetching the user\n",
    "    print(f'fetching {screen_name}...')\n",
    "    user = api.get_user(screen_name, wait_on_rate_limit=True,wait_on_rate_limit_notify=True)\n",
    "    \n",
    "    # fetching the followers_count\n",
    "    followers_count = user.followers_count\n",
    "\n",
    "    retweeted_user_followers_dict[screen_name] = followers_count"
   ]
  },
  {
   "cell_type": "code",
   "execution_count": 104,
   "metadata": {},
   "outputs": [],
   "source": [
    "retweeted_user_followers_list = [retweeted_user_followers_dict[i] for i in list(edge.retweeted_user)]\n",
    "edge['retweeted_user_followers'] = retweeted_user_followers_list\n",
    "edge.to_csv(f'./dataset/edge-{location}.csv', index=False)"
   ]
  },
  {
   "cell_type": "code",
   "execution_count": null,
   "metadata": {},
   "outputs": [],
   "source": []
  }
 ]
}