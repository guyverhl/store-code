{
 "metadata": {
  "language_info": {
   "codemirror_mode": {
    "name": "ipython",
    "version": 3
   },
   "file_extension": ".py",
   "mimetype": "text/x-python",
   "name": "python",
   "nbconvert_exporter": "python",
   "pygments_lexer": "ipython3",
   "version": "3.9.0"
  },
  "orig_nbformat": 2,
  "kernelspec": {
   "name": "python390jvsc74a57bd0aee8b7b246df8f9039afb4144a1f6fd8d2ca17a180786b69acc140d282b71a49",
   "display_name": "Python 3.9.0 64-bit"
  },
  "metadata": {
   "interpreter": {
    "hash": "aee8b7b246df8f9039afb4144a1f6fd8d2ca17a180786b69acc140d282b71a49"
   }
  }
 },
 "nbformat": 4,
 "nbformat_minor": 2,
 "cells": [
  {
   "source": [
    "import numpy as np\n",
    "import pandas as pd\n",
    "import tweepy\n",
    "import os\n",
    "from dotenv import load_dotenv\n",
    "load_dotenv()"
   ],
   "cell_type": "code",
   "metadata": {},
   "execution_count": null,
   "outputs": []
  },
  {
   "cell_type": "code",
   "execution_count": null,
   "metadata": {},
   "outputs": [],
   "source": [
    "consumerKey = os.getenv(\"consumerKey\")\n",
    "consumerSecret = os.getenv(\"consumerSecret\")\n",
    "accessToken = os.getenv(\"accessToken\")\n",
    "accessTokenSecret = os.getenv(\"accessTokenSecret\")"
   ]
  },
  {
   "cell_type": "code",
   "execution_count": null,
   "metadata": {},
   "outputs": [],
   "source": [
    "def pulling(location, noOfTweet):\n",
    "    auth = tweepy.OAuthHandler(consumerKey, consumerSecret)\n",
    "    auth.set_access_token(accessToken, accessTokenSecret)\n",
    "    api = tweepy.API(auth)\n",
    "\n",
    "    keyword = f'vaccine {location}'\n",
    "    tweets = tweepy.Cursor(api.search, q=keyword).items(noOfTweet)\n",
    "    tweet_list = [[tweet.user.screen_name, tweet.user.followers_count, tweet.user.friends_count, \n",
    "                    tweet.retweet_count, tweet.favorite_count, tweet.text] for tweet in tweets]\n",
    "    tweet_text = pd.DataFrame(data=tweet_list, columns=['user', \"followers_count\", \"friends_count\", \n",
    "                                                        \"retweet_count\", \"favorite_count\", \"text\"])\n",
    "    tweet_text.to_csv(f'tweet-df-{location}.csv', index=False)\n",
    "\n",
    "    return tweet_text"
   ]
  },
  {
   "cell_type": "code",
   "execution_count": null,
   "metadata": {},
   "outputs": [],
   "source": [
    "location = \"israel\"\n",
    "noOfTweet = 1500\n",
    "df = pulling(location, noOfTweet)"
   ]
  },
  {
   "cell_type": "code",
   "execution_count": 100,
   "metadata": {},
   "outputs": [
    {
     "output_type": "stream",
     "name": "stdout",
     "text": [
      "                 user  followers_count  friends_count  retweet_count  \\\n0     paperteacher121             1107           1359              0   \n1           ryan_chua           423705           3308              0   \n2        StrawberryNG             1919           1676              0   \n3       AlbertMylesAM             2969           4770              0   \n4           feedpushr               80              0              0   \n...               ...              ...            ...            ...   \n1254  JasonLe89224405              454            716            250   \n1255      June_yu2020              115            335            250   \n1256        trityleti               51            249            250   \n1257        redesovir                9             16            250   \n1258     heidiwyleung               45             81            250   \n\n      favorite_count                                               text  \n0                  0  Hong Kong’s vaccine drive is faltering. Here’s...  \n1                  0  Coronavirus: Hong Kong health experts push to ...  \n2                  0  Hong Kong's vaccine drive is faltering. Here's...  \n3                  0  More Than 2M Vaccine Shots Given In HKSAR | Ho...  \n4                  0  Hong Kong's vaccine drive is faltering. Here's...  \n...              ...                                                ...  \n1254               0  RT @Quicktake: “We don't police people. We ent...  \n1255               0  RT @Quicktake: “We don't police people. We ent...  \n1256               0  RT @Quicktake: “We don't police people. We ent...  \n1257               0  RT @Quicktake: “We don't police people. We ent...  \n1258               0  RT @Quicktake: “We don't police people. We ent...  \n\n[1259 rows x 6 columns]\n"
     ]
    }
   ],
   "source": [
    "df = pd.read_csv(f'tweet-df-israel.csv', sep=',', lineterminator='\\n')\n",
    "print(df)"
   ]
  },
  {
   "cell_type": "code",
   "execution_count": 101,
   "metadata": {},
   "outputs": [],
   "source": [
    "retweeted = []\n",
    "user = []\n",
    "user_followers = []\n",
    "text = []\n",
    "for index, row in df.text.iteritems():\n",
    "    if \"RT @\" in row:\n",
    "        username = row.split(\"RT @\",1)[1].split(\":\",1)[-2]\n",
    "        if \" \" in username:\n",
    "            username = username.split(\" \",1)[-2]\n",
    "        retweeted.append(username)\n",
    "        user.append(df.user[index])\n",
    "        user_followers.append(df.followers_count[index])\n",
    "        text.append(df.text[index])\n",
    "edge = pd.DataFrame(zip(user, user_followers, retweeted, text), columns =['user', 'user_followers', 'retweeted_user', 'text'])\n",
    "edge = edge.drop(edge[edge.user == edge.retweeted_user].index)\n",
    "edge['retweeted_user_followers'] = \"\"\n",
    "edge['sentiment'] = \"\""
   ]
  },
  {
   "cell_type": "code",
   "execution_count": 102,
   "metadata": {},
   "outputs": [],
   "source": [
    "retweeted_user_list = list(edge.retweeted_user)\n",
    "retweeted_user_list = list(dict.fromkeys(retweeted_user_list))\n",
    "# print(retweeted_user_list)"
   ]
  },
  {
   "cell_type": "code",
   "execution_count": 103,
   "metadata": {},
   "outputs": [
    {
     "output_type": "stream",
     "name": "stdout",
     "text": [
      "fetching firstdraftnews...\n",
      "fetching BloombergQuint...\n",
      "fetching DavidGr07837209...\n",
      "fetching AlanCane604...\n",
      "fetching Quicktake...\n",
      "fetching nikki_miumiu...\n",
      "fetching tripperhead...\n",
      "fetching abcnews...\n",
      "fetching dwnews...\n",
      "fetching BillyBostickson...\n",
      "fetching johnrobb...\n",
      "fetching NikkeiAsia...\n",
      "fetching nogoodgods...\n",
      "fetching swissbusiness...\n",
      "fetching hannahsmumby...\n",
      "fetching ChinaSunSong...\n",
      "fetching TIME...\n",
      "fetching Diplomat_APAC...\n",
      "fetching next_china...\n",
      "fetching otandp...\n",
      "fetching Undergroundsar3...\n",
      "fetching george_chen...\n",
      "fetching VamosNadalClay...\n",
      "fetching bobbiharlow...\n",
      "fetching Network_Easy...\n",
      "fetching primroseriordan...\n",
      "fetching baconmashwbs...\n",
      "fetching vicciho...\n",
      "fetching SCMPHongKong...\n",
      "fetching business...\n",
      "fetching iainmarlow...\n",
      "fetching HKU_CMEL...\n",
      "fetching tommywalkerco...\n",
      "fetching CanisPundit...\n",
      "fetching ML03509599...\n",
      "fetching NavitaSrikant...\n",
      "fetching gigi_choy...\n",
      "fetching hongkong_news...\n",
      "fetching SCMPNews...\n",
      "fetching paoloigna1...\n",
      "fetching hildabast...\n",
      "fetching BrittClennett...\n",
      "fetching asiatimesonline...\n",
      "fetching kjoules...\n",
      "fetching bencowling88...\n",
      "fetching InfectiousDz...\n",
      "fetching hkcharlesli...\n",
      "fetching mduhalde96...\n",
      "fetching ETemily...\n",
      "fetching ofarry...\n",
      "fetching denise_tsang...\n",
      "fetching Olgawys...\n",
      "fetching DrMePhD...\n",
      "fetching MaitreyaBhakal...\n",
      "fetching eugyppius1...\n",
      "fetching Paige_Reynolds_...\n",
      "fetching Monocle24...\n",
      "fetching DavidPapp...\n",
      "fetching manilabulletin...\n",
      "fetching Jamon146...\n",
      "fetching TMclaughlin3...\n",
      "fetching AJEnglish...\n",
      "fetching DavidV5Goliath...\n",
      "fetching bpolitics...\n",
      "fetching JeromeTaylor...\n",
      "fetching STForeignDesk...\n",
      "fetching ChloecLoNews...\n"
     ]
    }
   ],
   "source": [
    "auth = tweepy.OAuthHandler(consumerKey, consumerSecret)\n",
    "auth.set_access_token(accessToken, accessTokenSecret)\n",
    "api = tweepy.API(auth)\n",
    "\n",
    "retweeted_user_followers_dict = {}\n",
    "\n",
    "for screen_name in retweeted_user_list:\n",
    "    # fetching the user\n",
    "    print(f'fetching {screen_name}...')\n",
    "    user = api.get_user(screen_name, wait_on_rate_limit=True,wait_on_rate_limit_notify=True)\n",
    "    \n",
    "    # fetching the followers_count\n",
    "    followers_count = user.followers_count\n",
    "\n",
    "    retweeted_user_followers_dict[screen_name] = followers_count"
   ]
  },
  {
   "cell_type": "code",
   "execution_count": 104,
   "metadata": {},
   "outputs": [],
   "source": [
    "retweeted_user_followers_list = [retweeted_user_followers_dict[i] for i in list(edge.retweeted_user)]\n",
    "edge['retweeted_user_followers'] = retweeted_user_followers_list\n",
    "edge.to_csv(f'edge-{location}.csv', index=False)"
   ]
  },
  {
   "cell_type": "code",
   "execution_count": null,
   "metadata": {},
   "outputs": [],
   "source": []
  }
 ]
}