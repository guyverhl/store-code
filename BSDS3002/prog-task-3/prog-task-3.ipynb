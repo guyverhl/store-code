{
 "metadata": {
  "language_info": {
   "codemirror_mode": {
    "name": "ipython",
    "version": 3
   },
   "file_extension": ".py",
   "mimetype": "text/x-python",
   "name": "python",
   "nbconvert_exporter": "python",
   "pygments_lexer": "ipython3",
   "version": "3.9.0"
  },
  "orig_nbformat": 2,
  "kernelspec": {
   "name": "python3",
   "display_name": "Python 3.9.0 64-bit",
   "metadata": {
    "interpreter": {
     "hash": "aee8b7b246df8f9039afb4144a1f6fd8d2ca17a180786b69acc140d282b71a49"
    }
   }
  }
 },
 "nbformat": 4,
 "nbformat_minor": 2,
 "cells": [
  {
   "source": [
    "from IPython.core.interactiveshell import InteractiveShell\n",
    "InteractiveShell.ast_node_interactivity = \"all\"\n",
    "from networkx.algorithms import bipartite\n",
    "import matplotlib.pyplot as plt\n",
    "import networkx as nx\n",
    "import pandas as pd\n",
    "import numpy as np\n",
    "from sklearn.metrics.pairwise import cosine_similarity"
   ],
   "cell_type": "code",
   "metadata": {},
   "execution_count": null,
   "outputs": []
  },
  {
   "cell_type": "code",
   "execution_count": null,
   "metadata": {},
   "outputs": [],
   "source": [
    "edges = pd.read_csv('edges_L6.csv', sep=',')\n",
    "nodelist = pd.read_csv('nodes_l6.csv', sep=',', index_col=0)\n",
    "G = nx.from_pandas_edgelist(edges, '# source', 'target', edge_attr = 'count')"
   ]
  },
  {
   "cell_type": "code",
   "execution_count": null,
   "metadata": {},
   "outputs": [],
   "source": [
    "plant = nodelist[nodelist.pollinator == 0]\n",
    "nx.set_node_attributes(G, dict(plant.pollinator), 'bipartite')\n",
    "insect = nodelist[nodelist.pollinator == 1]\n",
    "nx.set_node_attributes(G, dict(insect.pollinator), 'bipartite')"
   ]
  },
  {
   "cell_type": "code",
   "execution_count": null,
   "metadata": {},
   "outputs": [],
   "source": [
    "bipartite.is_bipartite(G)"
   ]
  },
  {
   "cell_type": "code",
   "execution_count": null,
   "metadata": {},
   "outputs": [],
   "source": [
    "node_set_insect = edges['# source']\n",
    "node_set_plant = edges['target']"
   ]
  },
  {
   "cell_type": "code",
   "execution_count": null,
   "metadata": {},
   "outputs": [],
   "source": [
    "projected_graph_insect = bipartite.weighted_projected_graph (G,node_set_insect, ratio = False)\n",
    "projected_graph_plant = bipartite.weighted_projected_graph (G,node_set_plant, ratio = False)"
   ]
  },
  {
   "cell_type": "code",
   "execution_count": null,
   "metadata": {},
   "outputs": [],
   "source": [
    "# Q1\n",
    "print(f'Number of nodes in insect = {len(node_set_insect.drop_duplicates())}')\n",
    "print(f'Number of nodes in plant = {len(node_set_plant.drop_duplicates())}')\n",
    "print(f'Number of edges in the graph = {len(G.edges)}')"
   ]
  },
  {
   "cell_type": "code",
   "execution_count": null,
   "metadata": {},
   "outputs": [],
   "source": [
    "# Q2\n",
    "node_set_insect.value_counts().to_frame().head(5)\n",
    "node_set_plant.value_counts().to_frame().head(5)"
   ]
  },
  {
   "cell_type": "code",
   "execution_count": null,
   "metadata": {
    "tags": []
   },
   "outputs": [],
   "source": [
    "# Q3\n",
    "repeated_list = []\n",
    "sorted_dict = {}\n",
    "\n",
    "adj_A = nx.to_numpy_matrix(projected_graph_insect)\n",
    "cos_sim_A = cosine_similarity(adj_A) # Create a cosine similarity matrix\n",
    "idx = np.argsort(cos_sim_A, axis=None)[::-1] # Form an array to identify the sequence of the matrix value\n",
    "rows, cols = np.unravel_index(idx, cos_sim_A.shape) # Form rows and cols array by identifying values' index\n",
    "A_sorted = cos_sim_A[rows, cols] # Sort the value in orders to the matrix\n",
    "\n",
    "for r, c, v in zip(rows, cols, A_sorted):\n",
    "    total_no = r + c # Calculate the summation of the row and column number to avoid repeated value\n",
    "    if (r == c or total_no in repeated_list): continue # Skip the loop if the value with the same row and column name\n",
    "    else:\n",
    "        sorted_dict[r, c] = v\n",
    "        repeated_list.append(total_no) # Add the total number into the list for next loop checking\n",
    "\n",
    "max_cos=dict(sorted(sorted_dict.items(), key=lambda x: x[1],reverse=True)[:5]) # Show all at once in descending order\n",
    "print(max_cos)"
   ]
  },
  {
   "cell_type": "code",
   "execution_count": null,
   "metadata": {},
   "outputs": [],
   "source": [
    "# Q4\n",
    "nx.info(projected_graph_insect)\n",
    "nx.info(projected_graph_plant)"
   ]
  },
  {
   "cell_type": "code",
   "execution_count": null,
   "metadata": {},
   "outputs": [],
   "source": [
    "# Q5\n",
    "degree_centrality_insect = nx.degree_centrality(projected_graph_insect)\n",
    "max_key_insect= max(degree_centrality_insect, key=degree_centrality_insect.get)\n",
    "max_value_insect = max(degree_centrality_insect.values())\n",
    "print(max_key_insect, max_value_insect)\n",
    "\n",
    "degree_centrality_plant = nx.degree_centrality(projected_graph_plant)\n",
    "max_key_plant = max(degree_centrality_plant, key=degree_centrality_plant.get)\n",
    "max_value_plant = max(degree_centrality_plant.values())\n",
    "print(max_key_plant, max_value_plant)"
   ]
  },
  {
   "cell_type": "code",
   "execution_count": null,
   "metadata": {},
   "outputs": [],
   "source": [
    "# Q6\n",
    "list(nx.isolates(projected_graph_insect))\n",
    "list(nx.isolates(projected_graph_plant))"
   ]
  },
  {
   "cell_type": "code",
   "execution_count": null,
   "metadata": {},
   "outputs": [],
   "source": [
    "# Q7\n",
    "def edge_to_remove(g): \n",
    "    d1 = nx.edge_betweenness_centrality(g) \n",
    "    list_of_tuples = list(d1.items()) \n",
    "      \n",
    "    sorted(list_of_tuples, key = lambda x:x[1], reverse = True) \n",
    "    return list_of_tuples[0][0] \n",
    "  \n",
    "def girvan(g): \n",
    "    a = nx.connected_components(g) \n",
    "    lena = len(list(a)) \n",
    "    print (' The number of connected components are ', lena) \n",
    "    while (lena == 1): \n",
    "        u, v = edge_to_remove(g) \n",
    "        g.remove_edge(u, v)  \n",
    "          \n",
    "        a = nx.connected_components(g) \n",
    "        lena=len(list(a)) \n",
    "        print (' The number of connected components are ', lena) \n",
    "    return a \n",
    "\n",
    "no_insect_cluster = girvan(projected_graph_insect)\n",
    "no_plant_cluster = girvan(projected_graph_plant)"
   ]
  },
  {
   "cell_type": "code",
   "execution_count": null,
   "metadata": {},
   "outputs": [],
   "source": [
    "# Q8\n",
    "nx.degree_assortativity_coefficient(projected_graph_insect)\n",
    "nx.degree_assortativity_coefficient(projected_graph_plant)"
   ]
  },
  {
   "cell_type": "code",
   "execution_count": null,
   "metadata": {},
   "outputs": [],
   "source": [
    "# Q9\n",
    "plt.figure(figsize=(16,36))\n",
    "pos = nx.bipartite_layout(G, projected_graph_plant)\n",
    "colors = ['red' if node[1]['bipartite']==0 else 'gray' for node in G.nodes(data = True)]\n",
    "nx.draw_networkx(G, pos = pos, node_color = colors, width = 0.2, with_labels = False)"
   ]
  },
  {
   "cell_type": "code",
   "execution_count": null,
   "metadata": {},
   "outputs": [],
   "source": [
    "plt.figure(figsize=(60,54))\n",
    "degree_centrality_insect = nx.degree_centrality(projected_graph_insect)\n",
    "nx.set_node_attributes(projected_graph_insect, degree_centrality_insect, 'degree_centrality')\n",
    "sizes = [n[1]['degree_centrality'] * 3000 for n in projected_graph_insect.nodes(data = True)]\n",
    "nx.draw_networkx(projected_graph_insect, node_size = sizes, with_labels = False, width = 0.2)"
   ]
  },
  {
   "cell_type": "code",
   "execution_count": null,
   "metadata": {},
   "outputs": [],
   "source": [
    "plt.figure(figsize=(54,54))\n",
    "degree_centrality_plant = nx.degree_centrality(projected_graph_plant)\n",
    "nx.set_node_attributes(projected_graph_plant, degree_centrality_plant, 'degree_centrality')\n",
    "sizes = [n[1]['degree_centrality'] * 1000 for n in projected_graph_plant.nodes(data = True)]\n",
    "nx.draw_networkx(projected_graph_plant, node_size = sizes, with_labels = False, width = 0.2)"
   ]
  },
  {
   "cell_type": "code",
   "execution_count": null,
   "metadata": {},
   "outputs": [],
   "source": []
  }
 ]
}