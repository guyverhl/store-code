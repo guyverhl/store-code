{
 "metadata": {
  "language_info": {
   "codemirror_mode": {
    "name": "ipython",
    "version": 3
   },
   "file_extension": ".py",
   "mimetype": "text/x-python",
   "name": "python",
   "nbconvert_exporter": "python",
   "pygments_lexer": "ipython3",
   "version": "3.9.0"
  },
  "orig_nbformat": 2,
  "kernelspec": {
   "name": "python390jvsc74a57bd0aee8b7b246df8f9039afb4144a1f6fd8d2ca17a180786b69acc140d282b71a49",
   "display_name": "Python 3.9.0 64-bit"
  },
  "metadata": {
   "interpreter": {
    "hash": "aee8b7b246df8f9039afb4144a1f6fd8d2ca17a180786b69acc140d282b71a49"
   }
  }
 },
 "nbformat": 4,
 "nbformat_minor": 2,
 "cells": [
  {
   "cell_type": "code",
   "execution_count": null,
   "metadata": {},
   "outputs": [],
   "source": [
    "import pandas as pd\n",
    "import numpy as np\n",
    "import matplotlib.pyplot as plt\n",
    "from scipy.stats import poisson \n",
    "from scipy.optimize import curve_fit\n",
    "from pandas.plotting import scatter_matrix\n",
    "#imports the own created package\n",
    "import bookie_package as bp"
   ]
  },
  {
   "cell_type": "code",
   "execution_count": 79,
   "metadata": {},
   "outputs": [
    {
     "output_type": "stream",
     "name": "stdout",
     "text": [
      "Getting bundesliga-1718...\n",
      "Getting bundesliga-1819...\n"
     ]
    }
   ],
   "source": [
    "# leagues_short = ['SP1', 'D1', 'E0', 'I1', 'F1', 'N1'] #spanish league, bundesliga, premier league,\n",
    "# leagues_full = ['la_liga', 'bundesliga', 'premier_league', 'serie_a', 'le_championnat', 'Eredivisie']\n",
    "# dict_historical_data = {}\n",
    "\n",
    "# for league, full_name in zip(leagues_short, leagues_full):\n",
    "#     frames = []\n",
    "#     for i in range(17, 21):\n",
    "#         df = pd.read_csv(\"http://www.football-data.co.uk/mmz4281/\"+str(i)+str(i+1)+\"/\"+league+\".csv\")\n",
    "#         print(f'Getting {full_name}-{i}{i+1}...')\n",
    "#         df = df[['Date', 'HomeTeam', 'AwayTeam', 'FTHG', 'FTAG', 'HST', 'AST']] #choose any column you want\n",
    "#         df = df.rename(columns={'FTHG': 'HomeGoals', 'FTAG': 'AwayGoals',\n",
    "#                                 'HST': 'HomeShotsOnTarget', 'AST':'AwayShotsOnTarget'})\n",
    "#         df = df.assign(Season=i)\n",
    "#         frames.append(df)\n",
    "#     df_historical_data = pd.concat(frames)\n",
    "#     dict_historical_data[full_name] = df_historical_data\n",
    "\n",
    "\n",
    "leagues_short = ['D1'] #spanish league, bundesliga, premier league,\n",
    "leagues_full = ['bundesliga']\n",
    "dict_historical_data = {}\n",
    "\n",
    "for league, full_name in zip(leagues_short, leagues_full):\n",
    "    frames = []\n",
    "    for i in range(17, 19):\n",
    "        df = pd.read_csv(\"http://www.football-data.co.uk/mmz4281/\"+str(i)+str(i+1)+\"/\"+league+\".csv\")\n",
    "        print(f'Getting {full_name}-{i}{i+1}...')\n",
    "        df = df[['Date', 'HomeTeam', 'AwayTeam', 'FTHG', 'FTAG', 'HST', 'AST']] #choose any column you want\n",
    "        df = df.assign(Season=i)\n",
    "        frames.append(df)\n",
    "    df_historical_data = pd.concat(frames)\n",
    "    dict_historical_data[full_name] = df_historical_data"
   ]
  },
  {
   "cell_type": "code",
   "execution_count": 80,
   "metadata": {},
   "outputs": [
    {
     "output_type": "stream",
     "name": "stdout",
     "text": [
      "     Day  Month  Year       HomeTeam            AwayTeam  FTHG  FTAG  HST  \\\n296    5     12  2019  Ein Frankfurt               Mainz     0     2    4   \n252    4     12  2019       Nurnberg          Schalke 04     1     1    6   \n288    5     11  2019       Augsburg              Hertha     3     4    3   \n289    5     11  2019       Dortmund  Fortuna Dusseldorf     3     2    5   \n290    5     11  2019       Hannover            Freiburg     3     0    6   \n\n     AST  HTGDIFF  ATGDIFF  \n296    4       -2        2  \n252    2        0        0  \n288    8       -1        1  \n289    3        1       -1  \n290    1        3       -3  \n"
     ]
    }
   ],
   "source": [
    "for league in leagues_full:\n",
    "    HTGDIFF = []\n",
    "    ATGDIFF = []\n",
    "    for index, row in dict_historical_data[league].iterrows():\n",
    "        HTGDIFF.append(row['FTHG'] - row['FTAG'])\n",
    "        ATGDIFF.append(-(row['FTHG'] - row['FTAG']))\n",
    "    dict_historical_data[league]['HTGDIFF'] = HTGDIFF\n",
    "    dict_historical_data[league]['ATGDIFF'] = ATGDIFF\n",
    "\n",
    "dict_historical_data[league]['Date'] = pd.to_datetime(dict_historical_data[league]['Date'], errors='coerce')\n",
    "dict_historical_data[league]['Day'] = dict_historical_data[league]['Date'].dt.day\n",
    "dict_historical_data[league]['Month'] = dict_historical_data[league]['Date'].dt.month\n",
    "dict_historical_data[league]['Year'] = dict_historical_data[league]['Date'].dt.year\n",
    "dict_historical_data[league] = dict_historical_data[league][['Day','Month','Year','HomeTeam', 'AwayTeam', 'FTHG', 'FTAG', 'HST', 'AST', 'HTGDIFF', 'ATGDIFF']]\n",
    "\n",
    "dict_historical_data[league]=dict_historical_data[league].sort_values(['Year', 'Month','Day'], ascending=False)\n",
    "print(dict_historical_data['bundesliga'].head())"
   ]
  },
  {
   "cell_type": "code",
   "execution_count": 59,
   "metadata": {},
   "outputs": [
    {
     "output_type": "execute_result",
     "data": {
      "text/plain": [
       "                    Day  Month  Year  AwayTeam  FTHG  FTAG  HST  AST\n",
       "HomeTeam                                                            \n",
       "Augsburg             34     34    34        34    34    34   34   34\n",
       "Bayern Munich        34     34    34        34    34    34   34   34\n",
       "Dortmund             34     34    34        34    34    34   34   34\n",
       "Ein Frankfurt        34     34    34        34    34    34   34   34\n",
       "FC Koln              17     17    17        17    17    17   17   17\n",
       "Fortuna Dusseldorf   17     17    17        17    17    17   17   17\n",
       "Freiburg             34     34    34        34    34    34   34   34\n",
       "Hamburg              17     17    17        17    17    17   17   17\n",
       "Hannover             34     34    34        34    34    34   34   34\n",
       "Hertha               34     34    34        34    34    34   34   34\n",
       "Hoffenheim           34     34    34        34    34    34   34   34\n",
       "Leverkusen           34     34    34        34    34    34   34   34\n",
       "M'gladbach           34     34    34        34    34    34   34   34\n",
       "Mainz                34     34    34        34    34    34   34   34\n",
       "Nurnberg             17     17    17        17    17    17   17   17\n",
       "RB Leipzig           34     34    34        34    34    34   34   34\n",
       "Schalke 04           34     34    34        34    34    34   34   34\n",
       "Stuttgart            34     34    34        34    34    34   34   34\n",
       "Werder Bremen        34     34    34        34    34    34   34   34\n",
       "Wolfsburg            34     34    34        34    34    34   34   34"
      ],
      "text/html": "<div>\n<style scoped>\n    .dataframe tbody tr th:only-of-type {\n        vertical-align: middle;\n    }\n\n    .dataframe tbody tr th {\n        vertical-align: top;\n    }\n\n    .dataframe thead th {\n        text-align: right;\n    }\n</style>\n<table border=\"1\" class=\"dataframe\">\n  <thead>\n    <tr style=\"text-align: right;\">\n      <th></th>\n      <th>Day</th>\n      <th>Month</th>\n      <th>Year</th>\n      <th>AwayTeam</th>\n      <th>FTHG</th>\n      <th>FTAG</th>\n      <th>HST</th>\n      <th>AST</th>\n    </tr>\n    <tr>\n      <th>HomeTeam</th>\n      <th></th>\n      <th></th>\n      <th></th>\n      <th></th>\n      <th></th>\n      <th></th>\n      <th></th>\n      <th></th>\n    </tr>\n  </thead>\n  <tbody>\n    <tr>\n      <th>Augsburg</th>\n      <td>34</td>\n      <td>34</td>\n      <td>34</td>\n      <td>34</td>\n      <td>34</td>\n      <td>34</td>\n      <td>34</td>\n      <td>34</td>\n    </tr>\n    <tr>\n      <th>Bayern Munich</th>\n      <td>34</td>\n      <td>34</td>\n      <td>34</td>\n      <td>34</td>\n      <td>34</td>\n      <td>34</td>\n      <td>34</td>\n      <td>34</td>\n    </tr>\n    <tr>\n      <th>Dortmund</th>\n      <td>34</td>\n      <td>34</td>\n      <td>34</td>\n      <td>34</td>\n      <td>34</td>\n      <td>34</td>\n      <td>34</td>\n      <td>34</td>\n    </tr>\n    <tr>\n      <th>Ein Frankfurt</th>\n      <td>34</td>\n      <td>34</td>\n      <td>34</td>\n      <td>34</td>\n      <td>34</td>\n      <td>34</td>\n      <td>34</td>\n      <td>34</td>\n    </tr>\n    <tr>\n      <th>FC Koln</th>\n      <td>17</td>\n      <td>17</td>\n      <td>17</td>\n      <td>17</td>\n      <td>17</td>\n      <td>17</td>\n      <td>17</td>\n      <td>17</td>\n    </tr>\n    <tr>\n      <th>Fortuna Dusseldorf</th>\n      <td>17</td>\n      <td>17</td>\n      <td>17</td>\n      <td>17</td>\n      <td>17</td>\n      <td>17</td>\n      <td>17</td>\n      <td>17</td>\n    </tr>\n    <tr>\n      <th>Freiburg</th>\n      <td>34</td>\n      <td>34</td>\n      <td>34</td>\n      <td>34</td>\n      <td>34</td>\n      <td>34</td>\n      <td>34</td>\n      <td>34</td>\n    </tr>\n    <tr>\n      <th>Hamburg</th>\n      <td>17</td>\n      <td>17</td>\n      <td>17</td>\n      <td>17</td>\n      <td>17</td>\n      <td>17</td>\n      <td>17</td>\n      <td>17</td>\n    </tr>\n    <tr>\n      <th>Hannover</th>\n      <td>34</td>\n      <td>34</td>\n      <td>34</td>\n      <td>34</td>\n      <td>34</td>\n      <td>34</td>\n      <td>34</td>\n      <td>34</td>\n    </tr>\n    <tr>\n      <th>Hertha</th>\n      <td>34</td>\n      <td>34</td>\n      <td>34</td>\n      <td>34</td>\n      <td>34</td>\n      <td>34</td>\n      <td>34</td>\n      <td>34</td>\n    </tr>\n    <tr>\n      <th>Hoffenheim</th>\n      <td>34</td>\n      <td>34</td>\n      <td>34</td>\n      <td>34</td>\n      <td>34</td>\n      <td>34</td>\n      <td>34</td>\n      <td>34</td>\n    </tr>\n    <tr>\n      <th>Leverkusen</th>\n      <td>34</td>\n      <td>34</td>\n      <td>34</td>\n      <td>34</td>\n      <td>34</td>\n      <td>34</td>\n      <td>34</td>\n      <td>34</td>\n    </tr>\n    <tr>\n      <th>M'gladbach</th>\n      <td>34</td>\n      <td>34</td>\n      <td>34</td>\n      <td>34</td>\n      <td>34</td>\n      <td>34</td>\n      <td>34</td>\n      <td>34</td>\n    </tr>\n    <tr>\n      <th>Mainz</th>\n      <td>34</td>\n      <td>34</td>\n      <td>34</td>\n      <td>34</td>\n      <td>34</td>\n      <td>34</td>\n      <td>34</td>\n      <td>34</td>\n    </tr>\n    <tr>\n      <th>Nurnberg</th>\n      <td>17</td>\n      <td>17</td>\n      <td>17</td>\n      <td>17</td>\n      <td>17</td>\n      <td>17</td>\n      <td>17</td>\n      <td>17</td>\n    </tr>\n    <tr>\n      <th>RB Leipzig</th>\n      <td>34</td>\n      <td>34</td>\n      <td>34</td>\n      <td>34</td>\n      <td>34</td>\n      <td>34</td>\n      <td>34</td>\n      <td>34</td>\n    </tr>\n    <tr>\n      <th>Schalke 04</th>\n      <td>34</td>\n      <td>34</td>\n      <td>34</td>\n      <td>34</td>\n      <td>34</td>\n      <td>34</td>\n      <td>34</td>\n      <td>34</td>\n    </tr>\n    <tr>\n      <th>Stuttgart</th>\n      <td>34</td>\n      <td>34</td>\n      <td>34</td>\n      <td>34</td>\n      <td>34</td>\n      <td>34</td>\n      <td>34</td>\n      <td>34</td>\n    </tr>\n    <tr>\n      <th>Werder Bremen</th>\n      <td>34</td>\n      <td>34</td>\n      <td>34</td>\n      <td>34</td>\n      <td>34</td>\n      <td>34</td>\n      <td>34</td>\n      <td>34</td>\n    </tr>\n    <tr>\n      <th>Wolfsburg</th>\n      <td>34</td>\n      <td>34</td>\n      <td>34</td>\n      <td>34</td>\n      <td>34</td>\n      <td>34</td>\n      <td>34</td>\n      <td>34</td>\n    </tr>\n  </tbody>\n</table>\n</div>"
     },
     "metadata": {},
     "execution_count": 59
    }
   ],
   "source": [
    "dict_historical_data['bundesliga'].groupby('HomeTeam').count()"
   ]
  },
  {
   "cell_type": "code",
   "execution_count": 87,
   "metadata": {
    "tags": []
   },
   "outputs": [
    {
     "output_type": "stream",
     "name": "stdout",
     "text": [
      "     Day  Month  Year    HomeTeam            AwayTeam  FTHG  FTAG  HST  AST  \\\n252    4     12  2019    Nurnberg          Schalke 04     1     1    6    2   \n293    5     11  2019    Nurnberg          M'gladbach     0     4    2    5   \n288    5     11  2019    Augsburg              Hertha     3     4    3    8   \n289    5     11  2019    Dortmund  Fortuna Dusseldorf     3     2    5    3   \n290    5     11  2019    Hannover            Freiburg     3     0    6    1   \n291    5     11  2019  Hoffenheim       Werder Bremen     0     1    3    6   \n292    5     11  2019  Leverkusen          Schalke 04     1     1    5    3   \n294    5     11  2019  RB Leipzig       Bayern Munich     0     0    3    5   \n295    5     11  2019   Stuttgart           Wolfsburg     3     0    4    2   \n\n     HTGDIFF  ATGDIFF  AVGHTGDIFF  AVGFTHG  \n252        0        0        -0.7      0.7  \n293       -4        4        -0.7      0.7  \n288       -1        1         0.1      2.3  \n289        1       -1         1.1      2.7  \n290        3       -3        -0.5      0.8  \n291       -1        1         0.3      1.5  \n292        0        0         1.0      2.2  \n294        0        0         1.1      1.7  \n295        3       -3         0.2      1.7  \n"
     ]
    }
   ],
   "source": [
    "dict_data = dict_historical_data['bundesliga']\n",
    "\n",
    "d_data = bp.averages.avg_goal_diff(dict_data, 'AVGHTGDIFF', 'HomeTeam', 'H')\n",
    "df_data = bp.averages.from_dict_value_to_df(d_data)\n",
    "df_data=df_data.sort_values(['Year', 'Month','Day'], ascending=False)\n",
    "\n",
    "\n",
    "avg_fthg_per_team=bp.averages.avg_goals(df_data, 'AVGFTHG', 'HomeTeam', 'H')\n",
    "df_data = bp.averages.from_dict_value_to_df(avg_fthg_per_team)\n",
    "df_data=df_data.sort_values(['Year', 'Month','Day'], ascending=False)\n",
    "\n",
    "\n",
    "print(df_data[1:10])"
   ]
  },
  {
   "cell_type": "code",
   "execution_count": 98,
   "metadata": {
    "tags": []
   },
   "outputs": [
    {
     "output_type": "stream",
     "name": "stderr",
     "text": [
      "/Users/guyverchan/Documents/HKU/STAT3622/final_proj/bookie_package/averages.py:72: SettingWithCopyWarning: \n",
      "A value is trying to be set on a copy of a slice from a DataFrame.\n",
      "Try using .loc[row_indexer,col_indexer] = value instead\n",
      "\n",
      "See the caveats in the documentation: https://pandas.pydata.org/pandas-docs/stable/user_guide/indexing.html#returning-a-view-versus-a-copy\n",
      "  team_with_past_dict[team]['{}_{}'.format(column, i)] = d[i].result\n",
      "     Day  Month  Year  FTHG  FTAG  HTGDIFF  ATGDIFF  AVGHTGDIFF  AVGFTHG  HST  \\\n",
      "296    5     12  2019     0     2       -2        2         0.0      1.3    4   \n",
      "272   27      4  2019     0     0        0        0         0.3      1.5    4   \n",
      "258   14      4  2019     1     3       -2        2         0.6      1.8    4   \n",
      "241   31      3  2019     3     0        3       -3         1.4      2.4    5   \n",
      "232   17      3  2019     1     0        1       -1         1.3      2.5    4   \n",
      "\n",
      "     ...  FTHG_1  FTHG_2  FTHG_3  FTHG_4  FTHG_5  FTHG_6  FTHG_7  FTHG_8  \\\n",
      "296  ...     0.0     1.0     3.0     1.0     1.0     3.0     1.0     3.0   \n",
      "272  ...     1.0     3.0     1.0     1.0     3.0     1.0     3.0     0.0   \n",
      "258  ...     3.0     1.0     1.0     3.0     1.0     3.0     0.0     2.0   \n",
      "241  ...     1.0     1.0     3.0     1.0     3.0     0.0     2.0     3.0   \n",
      "232  ...     1.0     3.0     1.0     3.0     0.0     2.0     3.0     7.0   \n",
      "\n",
      "     FTHG_9  FTHG_10  \n",
      "296     0.0      2.0  \n",
      "272     2.0      3.0  \n",
      "258     3.0      7.0  \n",
      "241     7.0      4.0  \n",
      "232     4.0      4.0  \n",
      "\n",
      "[5 rows x 41 columns]\n"
     ]
    }
   ],
   "source": [
    "# HTGDIFF values from the last ten home team games, per past match\n",
    "team_with_past_HTGDIFF=bp.averages.previous_data(df_data, 'HomeTeam', 'HTGDIFF')\n",
    "df_team_with_past_HTGDIFF = bp.averages.from_dict_value_to_df(team_with_past_HTGDIFF)\n",
    "\n",
    "columns_HTGDIFF = ['Day', 'Month', 'Year', 'HomeTeam', 'AwayTeam', 'FTHG', 'FTAG', 'HTGDIFF', 'ATGDIFF', 'AVGHTGDIFF','AVGFTHG','HST', 'AST', 'HTGDIFF_1', 'HTGDIFF_2', 'HTGDIFF_3', 'HTGDIFF_4', 'HTGDIFF_5', 'HTGDIFF_6', 'HTGDIFF_7', 'HTGDIFF_8', 'HTGDIFF_9','HTGDIFF_10']\n",
    "\n",
    "df_team_with_past_HTGDIFF = df_team_with_past_HTGDIFF.reindex(columns=columns_HTGDIFF)\n",
    "df_team_with_past_HTGDIFF.fillna(0, inplace=True)\n",
    "\n",
    "# HST values from the last ten home team games, per past match\n",
    "team_with_past_HST=bp.averages.previous_data(df_team_with_past_HTGDIFF, 'HomeTeam', 'HST')\n",
    "df_team_with_past_HST = bp.averages.from_dict_value_to_df(team_with_past_HST)\n",
    "\n",
    "columns_HST =  ['HST_1', 'HST_2', 'HST_3', 'HST_4', 'HST_5', 'HST_6', 'HST_7', 'HST_8', 'HST_9', 'HST_10']\n",
    "columns_HTGDIFF_HST = columns_HTGDIFF + columns_HST\n",
    "\n",
    "df_team_with_past_HST = df_team_with_past_HST.reindex(columns=columns_HTGDIFF_HST)\n",
    "df_team_with_past_HST.fillna(0, inplace=True)\n",
    "\n",
    "# FTHG values from the last ten home team games, per past match\n",
    "team_with_past_FTHG = bp.averages.previous_data(df_team_with_past_HST, 'HomeTeam', 'FTHG')\n",
    "df_team_with_past_FTHG = bp.averages.from_dict_value_to_df(team_with_past_FTHG)\n",
    "\n",
    "columns_FTHG = ['FTHG_1', 'FTHG_2', 'FTHG_3', 'FTHG_4', 'FTHG_5', 'FTHG_6', 'FTHG_7', 'FTHG_8', 'FTHG_9', 'FTHG_10']\n",
    "columns_HTGDIFF_HST_FTHG = columns_HTGDIFF_HST + columns_FTHG\n",
    "\n",
    "df_team_with_past_FTHG = df_team_with_past_FTHG.reindex(columns=columns_HTGDIFF_HST_FTHG)\n",
    "\n",
    "# filling na to make data suitable for our model\n",
    "df_team_with_past_FTHG.fillna(0, inplace=True)\n",
    "df_result = df_team_with_past_FTHG.copy()\n",
    "\n",
    "df_result.shape\n",
    "df_result = df_result.drop(['HomeTeam', 'AwayTeam'], axis = 1)\n",
    "\n",
    "print(df_result.head())"
   ]
  },
  {
   "cell_type": "code",
   "execution_count": null,
   "metadata": {},
   "outputs": [],
   "source": []
  }
 ]
}