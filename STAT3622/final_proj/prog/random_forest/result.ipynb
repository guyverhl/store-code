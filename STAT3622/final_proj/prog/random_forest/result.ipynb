{
 "cells": [
  {
   "cell_type": "code",
   "execution_count": 66,
   "metadata": {},
   "outputs": [
    {
     "output_type": "stream",
     "name": "stdout",
     "text": [
      "Populating the interactive namespace from numpy and matplotlib\n"
     ]
    }
   ],
   "source": [
    "%pylab inline\n",
    "import pandas as pd\n",
    "import numpy as np\n",
    "import scipy \n",
    "import sys\n",
    "import bookie_package as bp\n",
    "import warnings\n",
    "warnings.filterwarnings('ignore')"
   ]
  },
  {
   "cell_type": "code",
   "execution_count": 67,
   "metadata": {},
   "outputs": [],
   "source": [
    "# load results from 'home_team_prediction.ipynb' and 'away_team_prediction.ipynb'\n",
    "df_home = pd.read_excel('df_both_seasons_home.xlsx', engine='openpyxl')\n",
    "df_away = pd.read_excel('df_both_seasons_away.xlsx', engine='openpyxl')"
   ]
  },
  {
   "cell_type": "code",
   "execution_count": 68,
   "metadata": {},
   "outputs": [],
   "source": [
    "cols_to_use = df_home.columns.difference(df_away.columns)"
   ]
  },
  {
   "cell_type": "code",
   "execution_count": 69,
   "metadata": {},
   "outputs": [],
   "source": [
    "df_both = pd.merge(df_away, df_home[cols_to_use], left_index=True, right_index=True, how='outer')"
   ]
  },
  {
   "cell_type": "code",
   "execution_count": 70,
   "metadata": {},
   "outputs": [],
   "source": [
    "del df_both['Unnamed: 0']"
   ]
  },
  {
   "cell_type": "code",
   "execution_count": 71,
   "metadata": {},
   "outputs": [],
   "source": [
    "# create predicted goal differences subtracting predicted home and away goals from each other and vice vers\n",
    "df_both['pred_HTGDIFF'] = df_both['FTHG'] - df_both['FTAG']\n",
    "df_both['pred_ATGDIFF'] = df_both['FTAG'] - df_both['FTHG']"
   ]
  },
  {
   "cell_type": "code",
   "execution_count": 72,
   "metadata": {},
   "outputs": [],
   "source": [
    "df_both.rename(columns={\"HTGDIFF\": \"test_HTGDIFF\", \"ATGDIFF\": \"test_ATGDIFF\", 'FTHG': 'pred_FTHG', 'FTAG':'pred_FTAG'}, inplace=True)"
   ]
  },
  {
   "cell_type": "code",
   "execution_count": 73,
   "metadata": {},
   "outputs": [],
   "source": [
    "df_both = df_both.reindex(columns = ['Day', 'Month', 'Year', 'HomeTeam', 'AwayTeam', 'pred_FTHG', 'pred_FTAG',\n",
    "       'test_HTGDIFF', 'pred_HTGDIFF', 'test_ATGDIFF', 'pred_ATGDIFF', 'AVGATGDIFF', 'AVGFTAG','AVGFTHG', 'AVGHTGDIFF'])"
   ]
  },
  {
   "cell_type": "code",
   "execution_count": 74,
   "metadata": {},
   "outputs": [],
   "source": [
    "df_both.to_excel('both.xlsx')"
   ]
  },
  {
   "cell_type": "code",
   "execution_count": 75,
   "metadata": {
    "scrolled": true
   },
   "outputs": [
    {
     "output_type": "stream",
     "name": "stdout",
     "text": [
      "MAE: 1.53 Goals.\nAccuracy: 23.46 %.\n"
     ]
    }
   ],
   "source": [
    "# counting where error = 0 which means prediction and test data are the same = success\n",
    "# then dividing it by the length of all errors\n",
    "errors = abs(df_both['pred_HTGDIFF'] - df_both['test_HTGDIFF'])\n",
    "accuracy = (errors==0).sum() / len(errors) * 100\n",
    "print('MAE:', round(np.mean(errors),2), 'Goals.')\n",
    "print('Accuracy:', round(accuracy, 2), '%.')"
   ]
  },
  {
   "cell_type": "code",
   "execution_count": 76,
   "metadata": {},
   "outputs": [],
   "source": [
    "total_wins=(df_both[\"pred_HTGDIFF\"] > 0).sum()\n",
    "total_draw=(df_both[\"pred_HTGDIFF\"] == 0).sum()\n",
    "total_loss=(df_both[\"pred_HTGDIFF\"] < 0).sum()"
   ]
  },
  {
   "cell_type": "code",
   "execution_count": 77,
   "metadata": {},
   "outputs": [],
   "source": [
    "common_win = ((df_both[\"test_HTGDIFF\"] > 0) & (df_both[\"pred_HTGDIFF\"] > 0)).sum()\n",
    "common_draw = ((df_both[\"test_HTGDIFF\"] == 0) & (df_both[\"pred_HTGDIFF\"] == 0)).sum()\n",
    "common_lost = ((df_both[\"test_HTGDIFF\"] < 0) & (df_both[\"pred_HTGDIFF\"] < 0)).sum()"
   ]
  },
  {
   "cell_type": "code",
   "execution_count": 78,
   "metadata": {},
   "outputs": [
    {
     "output_type": "stream",
     "name": "stdout",
     "text": [
      "Correct Prediction Total: 52.25 %\nCorrect Prediction Share Wins: 63.33 %\nCorrect Prediction Share Draws: 25.63 %\nCorrect Prediction Share Lost: 61.29 %\n"
     ]
    }
   ],
   "source": [
    "print('Correct Prediction Total: {} %'.format(np.round(((common_win+common_draw+common_lost)/df_both.shape[0]) * 100,2)))\n",
    "print('Correct Prediction Share Wins: {} %'.format(np.round((common_win /total_wins)*100, 2)))\n",
    "print('Correct Prediction Share Draws: {} %'.format(np.round((common_draw / total_draw)*100,2)))\n",
    "print('Correct Prediction Share Lost: {} %'.format(np.round((common_lost / total_loss)*100,2)))"
   ]
  },
  {
   "cell_type": "code",
   "execution_count": null,
   "metadata": {},
   "outputs": [],
   "source": []
  }
 ],
 "metadata": {
  "kernelspec": {
   "name": "python390jvsc74a57bd0aee8b7b246df8f9039afb4144a1f6fd8d2ca17a180786b69acc140d282b71a49",
   "display_name": "Python 3.9.0 64-bit"
  },
  "language_info": {
   "codemirror_mode": {
    "name": "ipython",
    "version": 3
   },
   "file_extension": ".py",
   "mimetype": "text/x-python",
   "name": "python",
   "nbconvert_exporter": "python",
   "pygments_lexer": "ipython3",
   "version": "3.9.0-final"
  },
  "metadata": {
   "interpreter": {
    "hash": "aee8b7b246df8f9039afb4144a1f6fd8d2ca17a180786b69acc140d282b71a49"
   }
  }
 },
 "nbformat": 4,
 "nbformat_minor": 2
}