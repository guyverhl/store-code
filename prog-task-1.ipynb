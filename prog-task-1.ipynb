{
 "metadata": {
  "language_info": {
   "codemirror_mode": {
    "name": "ipython",
    "version": 3
   },
   "file_extension": ".py",
   "mimetype": "text/x-python",
   "name": "python",
   "nbconvert_exporter": "python",
   "pygments_lexer": "ipython3",
   "version": "3.9.0-final"
  },
  "orig_nbformat": 2,
  "kernelspec": {
   "name": "python3",
   "display_name": "Python 3.9.0 64-bit",
   "metadata": {
    "interpreter": {
     "hash": "aee8b7b246df8f9039afb4144a1f6fd8d2ca17a180786b69acc140d282b71a49"
    }
   }
  }
 },
 "nbformat": 4,
 "nbformat_minor": 2,
 "cells": [
  {
   "source": [
    "import networkx as nx\n",
    "import pandas as pd\n",
    "import numpy as np\n",
    "from sklearn.metrics.pairwise import cosine_similarity\n",
    "import matplotlib.pyplot as plt"
   ],
   "cell_type": "code",
   "metadata": {},
   "execution_count": null,
   "outputs": []
  },
  {
   "cell_type": "code",
   "execution_count": null,
   "metadata": {},
   "outputs": [],
   "source": [
    "edges = pd.read_csv('edges.csv', sep=',')\n",
    "nodelist = pd.read_csv('nodelist.csv', sep=',')\n",
    "G = nx.from_pandas_edgelist(edges, '# source', ' target')"
   ]
  },
  {
   "cell_type": "code",
   "execution_count": null,
   "metadata": {},
   "outputs": [],
   "source": [
    "node_attr = dict(nodelist.club)\n",
    "nx.set_node_attributes(G, node_attr, 'club')"
   ]
  },
  {
   "cell_type": "code",
   "execution_count": null,
   "metadata": {},
   "outputs": [],
   "source": [
    "colors = ['lightskyblue' if n[1]['club'] == 'Mr. Hi' else 'lightcoral' for n in G.nodes(data = True)]\n",
    "nx.draw_networkx(G, node_color = colors)"
   ]
  },
  {
   "cell_type": "code",
   "execution_count": null,
   "metadata": {},
   "outputs": [],
   "source": [
    "sizes = [i[1] * 30 for i in list(G.degree())]\n",
    "nx.draw_networkx(G, node_color = colors, node_size = sizes)"
   ]
  },
  {
   "cell_type": "code",
   "execution_count": null,
   "metadata": {},
   "outputs": [],
   "source": [
    "nx.density(G)"
   ]
  },
  {
   "cell_type": "code",
   "execution_count": null,
   "metadata": {},
   "outputs": [],
   "source": [
    "nx.diameter(G)"
   ]
  },
  {
   "cell_type": "code",
   "execution_count": null,
   "metadata": {},
   "outputs": [],
   "source": [
    "nx.degree_centrality(G)"
   ]
  },
  {
   "cell_type": "code",
   "execution_count": null,
   "metadata": {},
   "outputs": [],
   "source": [
    "nx.betweenness_centrality(G)"
   ]
  },
  {
   "cell_type": "code",
   "execution_count": null,
   "metadata": {},
   "outputs": [],
   "source": [
    "nx.closeness_centrality(G)"
   ]
  },
  {
   "cell_type": "code",
   "execution_count": null,
   "metadata": {},
   "outputs": [],
   "source": [
    "nx.eigenvector_centrality(G)"
   ]
  },
  {
   "cell_type": "code",
   "execution_count": null,
   "metadata": {},
   "outputs": [],
   "source": [
    "cluster_attr = nx.clustering(G)\n",
    "nx.set_node_attributes(G, cluster_attr, 'cluster')\n",
    "nx.attribute_assortativity_coefficient(G,'cluster')"
   ]
  },
  {
   "cell_type": "code",
   "execution_count": 51,
   "metadata": {
    "tags": []
   },
   "outputs": [
    {
     "output_type": "stream",
     "name": "stdout",
     "text": [
      "{(32, 31): 0.9999999999999998, (30, 29): 0.9999999999999998, (30, 31): 0.9999999999999998, (30, 32): 0.9999999999999998, (15, 13): 0.9999999999999998, (29, 31): 0.9999999999999998}\n"
     ]
    }
   ],
   "source": [
    "# Cosine similarity value\n",
    "sorted_dict = {}\n",
    "repeated_list = []\n",
    "\n",
    "adj_A = nx.to_numpy_matrix(G)\n",
    "cos_sim_A = cosine_similarity(adj_A)\n",
    "idx = np.argsort(cos_sim_A, axis=None)[::-1]\n",
    "rows, cols = np.unravel_index(idx, cos_sim_A.shape)\n",
    "A_sorted = cos_sim_A[rows, cols]\n",
    "\n",
    "for r, c, v in zip(rows, cols, A_sorted):\n",
    "    total_no = r + c\n",
    "    if (r == c or total_no in repeated_list): continue\n",
    "    else:\n",
    "        sorted_dict[r, c] = v\n",
    "        repeated_list.append(total_no)\n",
    "\n",
    "max_cos=dict(sorted(sorted_dict.items(), key=lambda x: x[1],reverse=True)[:6])\n",
    "print(max_cos)\n"
   ]
  },
  {
   "cell_type": "code",
   "execution_count": 52,
   "metadata": {},
   "outputs": [
    {
     "output_type": "stream",
     "name": "stdout",
     "text": [
      "{(30, 31): 1.0, (13, 15): 1.0, (29, 31): 1.0, (29, 30): 1.0, (30, 32): 1.0, (31, 32): 1.0}\n"
     ]
    }
   ],
   "source": [
    "# Jaccard similarity value\n",
    "sorted_dict = {}\n",
    "repeated_list = []\n",
    "\n",
    "sims = np.zeros((len(G.nodes),len(G.nodes)))\n",
    "letter2index = dict(zip(list(G.nodes),range(sims.shape[0])))\n",
    "for i in nx.jaccard_coefficient(G):\n",
    "    sims[letter2index[i[0]],letter2index[i[1]]] = i[2]\n",
    "idx = np.argsort(sims, axis=None)[::-1]\n",
    "rows, cols = np.unravel_index(idx, sims.shape)\n",
    "A_sorted = sims[rows, cols]\n",
    "\n",
    "for r, c, v in zip(rows, cols, A_sorted):\n",
    "    total_no = r + c\n",
    "    if (r == c or total_no in repeated_list): continue\n",
    "    else:\n",
    "        sorted_dict[r, c] = v\n",
    "        repeated_list.append(total_no)\n",
    "\n",
    "max_jac=dict(sorted(sorted_dict.items(), key=lambda x: x[1],reverse=True)[:6])\n",
    "print(max_jac)"
   ]
  },
  {
   "cell_type": "code",
   "execution_count": null,
   "metadata": {},
   "outputs": [],
   "source": [
    "x_coords = [i for i in nx.degree_centrality(G).values()]\n",
    "y_coords = [i for i in nx.clustering(G).values()]\n",
    "plt.title('The relationship between degree centrality and local clustering coefficient')\n",
    "plt.xlabel('degree centrality')\n",
    "plt.ylabel('local clustering coefficient')\n",
    "plt.scatter(x_coords, y_coords)"
   ]
  }
 ]
}